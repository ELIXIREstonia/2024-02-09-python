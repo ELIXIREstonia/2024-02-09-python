{
  "nbformat": 4,
  "nbformat_minor": 0,
  "metadata": {
    "colab": {
      "provenance": [],
      "collapsed_sections": [
        "TfDX1P0ZVprH",
        "MXpmDRW4O6Wx",
        "bVr0HN_JL9U5"
      ],
      "mount_file_id": "1FUMOJ2JNnuXBkLWVw-PT0g1wRWUumkBL",
      "authorship_tag": "ABX9TyOhnOwcgDuPiSmjj+o5R5DJ",
      "include_colab_link": true
    },
    "kernelspec": {
      "name": "python3",
      "display_name": "Python 3"
    },
    "language_info": {
      "name": "python"
    }
  },
  "cells": [
    {
      "cell_type": "markdown",
      "metadata": {
        "id": "view-in-github",
        "colab_type": "text"
      },
      "source": [
        "<a href=\"https://colab.research.google.com/github/ELIXIREstonia/2024-02-09-python/blob/main/Python_for_beginners.ipynb\" target=\"_parent\"><img src=\"https://colab.research.google.com/assets/colab-badge.svg\" alt=\"Open In Colab\"/></a>"
      ]
    },
    {
      "cell_type": "markdown",
      "source": [],
      "metadata": {
        "id": "sfd6Mk02V1rv"
      }
    },
    {
      "cell_type": "markdown",
      "source": [
        "# Introduction to Variables\n",
        "\n",
        "\n",
        "- **Definition:** Variables are names that refer to values stored in memory. They allow you to store, retrieve, and manipulate data in your programs.\n",
        "- **Declaration and Assignment:** In Python, variables are created when you first assign them a value. The assignment operator (`=`) is used for this purpose.\n",
        "\n",
        "### Basic Examples\n",
        "#### 1. Assigning Values to Variables"
      ],
      "metadata": {
        "id": "wTZ-7Dk7A-9s"
      }
    },
    {
      "cell_type": "code",
      "source": [
        "# Assigning an integer value\n",
        "age = 30\n",
        "\n",
        "# Assigning a string value\n",
        "name = \"Alice\"\n",
        "\n",
        "# Assigning a floating point value\n",
        "height = 5.9"
      ],
      "metadata": {
        "id": "DienxzVYBUne"
      },
      "execution_count": null,
      "outputs": []
    },
    {
      "cell_type": "markdown",
      "source": [
        "#### 2. Using Variables"
      ],
      "metadata": {
        "id": "SCh6CFbLBXOR"
      }
    },
    {
      "cell_type": "code",
      "source": [
        "# Printing variables\n",
        "print(age)  # Output: 30\n",
        "print(name)  # Output: Alice\n",
        "print(height)  # Output: 5.9\n",
        "\n",
        "# Using variables in calculations\n",
        "next_year_age = age + 1\n",
        "print(next_year_age)  # Output: 31"
      ],
      "metadata": {
        "id": "QjtpNYi-BePD"
      },
      "execution_count": null,
      "outputs": []
    },
    {
      "cell_type": "markdown",
      "source": [
        "#### 3. Updateing Variables"
      ],
      "metadata": {
        "id": "DizImypzBtSe"
      }
    },
    {
      "cell_type": "code",
      "source": [
        "# Updating a variable\n",
        "age = age + 1\n",
        "print(age)  # Output: 31\n",
        "\n",
        "# Incrementing a variable (shortcut)\n",
        "age += 1\n",
        "print(age)  # Output: 32"
      ],
      "metadata": {
        "id": "0hvGJVAWBywU"
      },
      "execution_count": null,
      "outputs": []
    },
    {
      "cell_type": "markdown",
      "source": [
        "# Introduction to Built-in Functions\n",
        "\n",
        "- https://docs.python.org/3/library/functions.html\n",
        "\n",
        "- **Definition:** Built-in functions are pre-defined functions in Python that are available for use without the need to import any module. They perform common and essential tasks, such as input/output operations, type conversions, and mathematical computations.\n",
        "\n",
        "- **Examples:** `print()`, `len()`, `type()`, `int()`, `str()`, and many others.\n",
        "\n",
        "#### Using Built-in Functions\n",
        "\n",
        "1. `print()` - used to output data to the standard output device (screen). i.e. `print(\"Hello, World!\")`.\n",
        "2. `len()` - returns the length (the number of items) of an object. i.e. `len(\"Python\")` returns `6`.\n",
        "3. `type()` - returns type of an object. i.e. `type(123)` returns `<class 'int'>`.\n",
        "4. `int()` and `str()` - used for type conversion. `int()` converts to an integer, and `str()` converts to a string. i.e. `int(\"10\")` returns `10`; `str(10)` returns `\"10\"`.\n",
        "\n",
        "Don't be shy to familiarise yourself with the documentation at https://docs.python.org/3/."
      ],
      "metadata": {
        "id": "Kl9gHwZ0Evsy"
      }
    },
    {
      "cell_type": "markdown",
      "source": [
        "# Python Variables Concept Test\n",
        "\n",
        "## Multiple Choice Questions\n",
        "\n",
        "1. **What is a variable in Python?**\n",
        "   - A) A fixed value that cannot change.\n",
        "   - B) A type of Python function.\n",
        "   - C) A name that refers to a value stored in memory.\n",
        "   - D) A specific Python library.\n",
        "\n",
        "2. **Which of the following is a valid variable assignment in Python?**\n",
        "   - A) `3x = \"hello\"`\n",
        "   - B) `my-variable = 123`\n",
        "   - C) `greeting_message = \"Good Morning\"`\n",
        "   - D) `\"age\" = 25`\n",
        "\n",
        "3. **Which of the following can be a value assigned to a variable in Python?**\n",
        "   - A) Integer\n",
        "   - B) String\n",
        "   - C) List\n",
        "   - D) All of the above\n",
        "\n",
        "## True/False Statements\n",
        "\n",
        "4. **Variable names in Python are case-sensitive.**\n",
        "   - True / False\n",
        "\n",
        "5. **It is possible to assign multiple variables in one line in Python.**\n",
        "   - True / False\n",
        "\n",
        "6. **A variable in Python can change type after it has been set.**\n",
        "   - True / False\n",
        "\n",
        "## Short Coding Challenge\n",
        "\n",
        "7. **Create a Python script that does the following:**\n",
        "   - Declare a variable `name` with your name as its value.\n",
        "   - Declare a variable `age` with your age as its value.\n",
        "   - Increment the `age` variable by 1.\n",
        "   - Print a message using both variables: \"Hello, my name is \\[name\\], and I am \\[age\\] years old.\"\n"
      ],
      "metadata": {
        "id": "7lgdwSznUzzJ"
      }
    },
    {
      "cell_type": "code",
      "source": [
        "# you can write your code here, or add additional cells as needed.\n",
        "\n"
      ],
      "metadata": {
        "id": "vxYDc_NqPSq6"
      },
      "execution_count": null,
      "outputs": []
    },
    {
      "cell_type": "markdown",
      "source": [
        "### Answers\n",
        "\n",
        "Click below for a solution"
      ],
      "metadata": {
        "id": "TfDX1P0ZVprH"
      }
    },
    {
      "cell_type": "markdown",
      "source": [
        "#### Multiple Choice Questions\n",
        "\n",
        "1. C) A name that refers to a value stored in memory\n",
        "2. C) `greeting_message = \"Good Morning\"`\n",
        "3. D) All of the above\n",
        "\n",
        "#### True/False Statements\n",
        "\n",
        "4. True\n",
        "5. True\n",
        "6. True\n",
        "\n",
        "#### Short Coding Challenge Example Solution\n",
        "\n",
        "```python\n",
        "# Declaring variables\n",
        "name = \"Your Name\"  # Replace \"Your Name\" with your actual name\n",
        "age = 20  # Replace 20 with your actual age\n",
        "\n",
        "# Incrementing age\n",
        "age += 1\n",
        "\n",
        "# Printing the message\n",
        "print(f\"Hello, my name is {name}, and I am {age} years old.\")\n",
        "```"
      ],
      "metadata": {
        "id": "nGJByRhTWwq9"
      }
    },
    {
      "cell_type": "markdown",
      "source": [
        "# Python Data Types\n",
        "\n",
        "Understanding data types in Python is crucial for effectively manipulating data in your programs. Python has a variety of built-in data types, which can be classified into the following categories:\n",
        "\n",
        "## Basic Data Types\n",
        "\n",
        "- **Integers**: Whole numbers, positive or negative, without decimals. Ex: `5`, `-3`.\n",
        "- **Floats**: Numbers with a decimal point or in exponential (E) form. Ex: `3.14`, `-0.001`, `2e2`.\n",
        "- **Booleans**: Represents `True` or `False` values.\n",
        "\n",
        "## Sequence Types\n",
        "\n",
        "- **Strings**: A sequence of Unicode characters. Ex: `\"Hello, World!\"`.\n",
        "- **Lists**: Ordered and changeable collections of items. Ex: `[1, 2.5, 'Python']`.\n",
        "- **Tuples**: Ordered and unchangeable collections of items. Ex: `(1, 2.5, 'Python')`.\n",
        "- **Ranges**: Immutable sequence of numbers and is commonly used for looping a specific number of times in `for` loops.\n",
        "\n",
        "## Mapping Type\n",
        "\n",
        "- **Dictionaries**: Unordered collections of key-value pairs. Ex: `{'name': 'Alice', 'age': 30}`.\n",
        "\n",
        "## Set Types\n",
        "\n",
        "- **Sets**: Unordered and unindexed collections of unique items. Ex: `{1, 2, 3, 'Python'}`.\n",
        "- **Frozen Sets**: Immutable version of a set. Ex: `frozenset([1, 2, 3, 'Python'])`.\n",
        "\n",
        "There are some more types, that are a bit more advanced. For full reference see https://docs.python.org/3.12/library/stdtypes.html\n",
        "\n",
        "## Getting Information about Data Types\n",
        "\n",
        "You can use the `type()` function to determine the data type of an object in Python."
      ],
      "metadata": {
        "id": "GnXxpxsu78n5"
      }
    },
    {
      "cell_type": "code",
      "source": [
        "x = 5\n",
        "print(type(x))  # Output: <class 'int'>"
      ],
      "metadata": {
        "id": "Pb2LbCXk8EPG"
      },
      "execution_count": null,
      "outputs": []
    },
    {
      "cell_type": "markdown",
      "source": [
        "## Converting Between Data Types\n",
        "Python allows you to convert between different data types, provided that a logical conversion is possible."
      ],
      "metadata": {
        "id": "w50uFb6a_SdL"
      }
    },
    {
      "cell_type": "code",
      "source": [
        "# Converting integer to float\n",
        "x = 10\n",
        "print(float(x))  # Output: 10.0\n",
        "\n",
        "# Converting float to integer (this will truncate the decimal part)\n",
        "y = 3.14\n",
        "print(int(y))  # Output: 3\n",
        "\n",
        "# Converting number to string\n",
        "z = 20\n",
        "print(str(z))  # Output: '20'\n",
        "\n",
        "# Converting tuple to list\n",
        "t = (1,2,3)\n",
        "print(list(t)) # Output: [1, 2, 3]\n",
        "\n",
        "# Converting list to set\n",
        "l = [1, 2, 3, 4, 2, 4, 3, 5, 5]\n",
        "print(set(l)) # Output: {1, 2, 3, 4, 5}"
      ],
      "metadata": {
        "id": "0wED8l9i_ZG-"
      },
      "execution_count": null,
      "outputs": []
    },
    {
      "cell_type": "markdown",
      "source": [
        "Understanding these data types and how to manipulate them is foundational for Python programming, enabling you to handle various forms of data effectively.\n",
        "\n",
        "Reference: https://docs.python.org/3.12/library/stdtypes.html"
      ],
      "metadata": {
        "id": "DOLxSe7vAIl9"
      }
    },
    {
      "cell_type": "markdown",
      "source": [
        "# Python Comparisons\n",
        "\n",
        "Comparisons are essential in Python for controlling the flow of programs by allowing the program to make decisions. Python supports several comparison operators, which return Boolean values: `True` or `False`.\n",
        "\n",
        "## Comparison Operators\n",
        "\n",
        "- **Equal to (`==`)**: Checks if the values of two operands are equal.\n",
        "- **Not equal to (`!=`)**: Checks if the values of two operands are not equal.\n",
        "- **Greater than (`>`)**: Checks if the value of the left operand is greater than the value of the right operand.\n",
        "- **Less than (`<`)**: Checks if the value of the left operand is less than the value of the right operand.\n",
        "- **Greater than or equal to (`>=`)**: Checks if the value of the left operand is greater than or equal to the value of the right operand.\n",
        "- **Less than or equal to (`<=`)**: Checks if the value of the left operand is less than or equal to the value of the right operand.\n",
        "\n",
        "## Using Comparison Operators"
      ],
      "metadata": {
        "id": "GLi3rdcBL7Bi"
      }
    },
    {
      "cell_type": "code",
      "source": [
        "a = 10\n",
        "b = 20\n",
        "\n",
        "# Equal to\n",
        "print(a == b)  # Output: False\n",
        "\n",
        "# Not equal to\n",
        "print(a != b)  # Output: True\n",
        "\n",
        "# Greater than\n",
        "print(a > b)  # Output: False\n",
        "\n",
        "# Less than\n",
        "print(a < b)  # Output: True\n",
        "\n",
        "# Greater than or equal to\n",
        "print(a >= 10)  # Output: True\n",
        "\n",
        "# Less than or equal to\n",
        "print(b <= 20)  # Output: True"
      ],
      "metadata": {
        "id": "g8-xsANlMCC6"
      },
      "execution_count": null,
      "outputs": []
    },
    {
      "cell_type": "markdown",
      "source": [
        "## Combining with Logical Operators\n",
        "Python allows combining comparison operators with logical operators (`and`, `or`, `not`) to build complex conditions.\n",
        "\n"
      ],
      "metadata": {
        "id": "5iB320JFMFFH"
      }
    },
    {
      "cell_type": "code",
      "source": [
        "x = 5\n",
        "y = 10\n",
        "\n",
        "# Using 'and' to check if x is greater than 3 and less than 10\n",
        "print(x > 3 and x < 10)  # Output: True; same as print(3 < x < 10)\n",
        "\n",
        "# Using 'or' to check if x is less than 4 or greater than 8\n",
        "print(x < 4 or y > 8)  # Output: True\n",
        "\n",
        "# Using 'not' to reverse the result of a comparison\n",
        "print(not(x > 3 and x < 10))  # Output: False\n",
        "\n"
      ],
      "metadata": {
        "id": "aqgm8af5MMMG"
      },
      "execution_count": null,
      "outputs": []
    },
    {
      "cell_type": "markdown",
      "source": [
        "Understanding and applying comparison operators are fundamental in making decisions in Python programs. They are widely used in control flow statements such as `if` statements, loops (`while`, `for`), and comprehensions."
      ],
      "metadata": {
        "id": "WCQmbiSxMocb"
      }
    },
    {
      "cell_type": "markdown",
      "source": [
        "# Extended Python Comparisons\n",
        "\n",
        "In addition to basic comparison operators, Python offers operators for identity and membership tests. These operators provide powerful ways to compare objects and check if elements belong to a collection.\n",
        "\n",
        "## Additional Comparison Operators\n",
        "\n",
        "- **Identity operators**\n",
        "  - `is`: True if the operands are identical (refer to the same object)\n",
        "  - `is not`: True if the operands are not identical (do not refer to the same object)\n",
        "\n",
        "- **Membership operators**\n",
        "  - `in`: True if the value is found in the sequence\n",
        "  - `not in`: True if the value is not found in the sequence\n",
        "\n",
        "## Using Identity Operators\n",
        "\n",
        "Identity operators compare the memory locations of two objects. They are not about the value equality but whether they are actually the same object."
      ],
      "metadata": {
        "id": "5v_IDMzdM89g"
      }
    },
    {
      "cell_type": "code",
      "source": [
        "a = [1, 2, 3]\n",
        "b = a       # b refers to the same list as a\n",
        "c = a[:]    # c is a copy of a, but points to a different object\n",
        "# the above line is equivalent to `c = a.copy()`\n",
        "\n",
        "# Using 'is'\n",
        "print(a is b)  # Output: True\n",
        "\n",
        "# Using 'is not'\n",
        "print(a is not c)  # Output: True"
      ],
      "metadata": {
        "id": "Z_N7C9cNM-cG"
      },
      "execution_count": null,
      "outputs": []
    },
    {
      "cell_type": "markdown",
      "source": [
        "## Using Membership Operators\n",
        "Membership operators test if a sequence contains a specified value."
      ],
      "metadata": {
        "id": "qdQfje0GNgb7"
      }
    },
    {
      "cell_type": "code",
      "source": [
        "my_list = [1, 2, 3, 4, 5]\n",
        "\n",
        "# Using 'in'\n",
        "print(3 in my_list)  # Output: True\n",
        "\n",
        "# Using 'not in'\n",
        "print(6 not in my_list)  # Output: True"
      ],
      "metadata": {
        "id": "0ML76XZgNi6D"
      },
      "execution_count": null,
      "outputs": []
    },
    {
      "cell_type": "markdown",
      "source": [
        "These operators expand the capabilities of Python comparisons, allowing for more nuanced checks like object identity and element membership. Understanding how to use these operators effectively can greatly enhance the logic and readability of your Python code."
      ],
      "metadata": {
        "id": "8gGCL7BxNlBj"
      }
    },
    {
      "cell_type": "markdown",
      "source": [
        "# Python Data Types and Comparisons Concept Test\n",
        "\n",
        "## Multiple Choice Questions\n",
        "\n",
        "1. **Which data type would you use to store a person's age?**\n",
        "   - A) String\n",
        "   - B) List\n",
        "   - C) Integer\n",
        "   - D) Float\n",
        "\n",
        "2. **What does the `in` operator do?**\n",
        "   - A) Checks if a value is inside a function\n",
        "   - B) Checks if a value exists within an iterable\n",
        "   - C) Increments the value of a variable\n",
        "   - D) Checks the identity of two variables\n",
        "\n",
        "3. **Which of the following is the correct way to check if two variables `a` and `b` refer to the same object in memory?**\n",
        "   - A) `a == b`\n",
        "   - B) `a is b`\n",
        "   - C) `a in b`\n",
        "   - D) `a != b`\n",
        "\n",
        "4. **What is the result of the following expression: `3 in [1, 2, 3]`?**\n",
        "   - A) `True`\n",
        "   - B) `False`\n",
        "   - C) Error\n",
        "   - D) None of the above\n",
        "\n",
        "## True/False Statements\n",
        "\n",
        "5. **Tuples can be modified after their creation.**\n",
        "   - True / False\n",
        "\n",
        "6. **The expression `5 is 5.0` will return True because they have the same value.**\n",
        "   - True / False\n",
        "\n",
        "7. **`'Hello' in 'Hello, World!'` will evaluate to True.**\n",
        "   - True / False\n",
        "\n",
        "8. **`[1, 2, 3] == [1, 2, 3]` checks if the two lists are exactly the same object in memory.**\n",
        "   - True / False\n",
        "\n",
        "## Short Answer Questions\n",
        "\n",
        "9. **What is the difference between `=` and `==` in Python?**\n",
        "\n",
        "10. **Explain the difference between the `is` operator and the `==` operator.**\n",
        "\n",
        "## Coding Challenge\n",
        "\n",
        "11. **Given the list `numbers = [1, 2, 3, 4, 5]`, write a Python expression that checks if `4` is in `numbers`.**\n",
        "\n",
        "12. **Create two variables, `a = 10` and `b = 20`. Write a Python statement that swaps their values without using a temporary variable.**"
      ],
      "metadata": {
        "id": "A3lPnAvEOvsN"
      }
    },
    {
      "cell_type": "code",
      "source": [
        "# you can write your code here, or add additional cells as needed.\n",
        "\n"
      ],
      "metadata": {
        "id": "3oolk4OQPCSF"
      },
      "execution_count": null,
      "outputs": []
    },
    {
      "cell_type": "markdown",
      "source": [
        "### Answers\n",
        "\n",
        "Click below for a solution"
      ],
      "metadata": {
        "id": "MXpmDRW4O6Wx"
      }
    },
    {
      "cell_type": "markdown",
      "source": [
        "#### Multiple Choice Questions\n",
        "\n",
        "1. C) Integer\n",
        "2. B) Checks if a value exists within an iterable\n",
        "3. B) `a is b`\n",
        "4. A) `True`\n",
        "\n",
        "#### True/False Statements\n",
        "\n",
        "5. False (Tuples are immutable)\n",
        "6. False (`is` compares identity, not value, and integers and floats are different types)\n",
        "7. True\n",
        "8. False (`==` checks for value equality, not object identity)\n",
        "\n",
        "#### Short Answer Questions\n",
        "\n",
        "9. **`=` is the assignment operator used to assign a value to a variable, whereas `==` is the equality operator used to compare two values for equality.**\n",
        "10. **The `is` operator checks if two operands refer to the same object in memory (identity), while `==` checks if the values of two operands are equal (equality).**\n",
        "\n",
        "#### Coding Challenge\n",
        "\n",
        "11. **`4 in numbers`**\n",
        "12. **`a, b = b, a`**"
      ],
      "metadata": {
        "id": "z_QMPHdpO7pG"
      }
    },
    {
      "cell_type": "markdown",
      "source": [
        "# Loops and Flow Control in Python\n",
        "\n",
        "Python provides several constructs for controlling the flow of execution in a program. The most common constructs are loops and conditional statements, which allow for iterating over sequences and making decisions based on certain conditions.\n",
        "\n",
        "## Conditional Statements\n",
        "\n",
        "- **`if` Statement**: Used to execute a block of code if a condition is true.\n",
        "- **`elif` Statement**: Short for \"else if\"; used to check multiple conditions after an `if` statement.\n",
        "- **`else` Statement**: Used to execute a block of code if all preceding conditions are false.\n",
        "\n",
        "### Example:"
      ],
      "metadata": {
        "id": "8d-g4FYjQjGr"
      }
    },
    {
      "cell_type": "code",
      "source": [
        "age = 20\n",
        "if age < 18:\n",
        "    print(\"You are a minor.\")\n",
        "elif age >= 18 and age < 65:\n",
        "    print(\"You are an adult.\")\n",
        "else:\n",
        "    print(\"You are a senior.\")"
      ],
      "metadata": {
        "id": "lvbQyxG-Qnn_"
      },
      "execution_count": null,
      "outputs": []
    },
    {
      "cell_type": "markdown",
      "source": [
        "## Loops\n",
        "Python provides two types of loops:\n",
        "\n",
        "- `for` **Loop**: Used for iterating over a sequence (like a list, tuple, dictionary, set, or string).\n",
        "- `while` **Loop**: Repeats as long as a condition is true.\n",
        "\n",
        "### `for` Loop Example:"
      ],
      "metadata": {
        "id": "1RkeISW0QsdA"
      }
    },
    {
      "cell_type": "code",
      "source": [
        "fruits = [\"apple\", \"banana\", \"cherry\"]\n",
        "for fruit in fruits:\n",
        "    print(fruit)"
      ],
      "metadata": {
        "id": "X3Wz7nJxQ-kB"
      },
      "execution_count": null,
      "outputs": []
    },
    {
      "cell_type": "markdown",
      "source": [
        "### `while` Loop Example:"
      ],
      "metadata": {
        "id": "UHVhjlGsQ_Yc"
      }
    },
    {
      "cell_type": "code",
      "source": [
        "count = 5\n",
        "while count > 0:\n",
        "    print(count)\n",
        "    count -= 1"
      ],
      "metadata": {
        "id": "HeLYrevFRErG"
      },
      "execution_count": null,
      "outputs": []
    },
    {
      "cell_type": "markdown",
      "source": [
        "Be cautious with `while` loops; without a proper terminating condition, you can accidentally create an infinite loop, which will continue to execute indefinitely and can cause your program to become unresponsive or crash."
      ],
      "metadata": {
        "id": "63PjKf2NRtpq"
      }
    },
    {
      "cell_type": "markdown",
      "source": [
        "## Loop Control Statements\n",
        "- **break**: Exits the loop.\n",
        "- **continue**: Skips the rest of the code inside the loop for the current iteration and moves to the next iteration.\n",
        "- **pass**: Does nothing; used as a placeholder.\n",
        "\n",
        "### Example:"
      ],
      "metadata": {
        "id": "pUOjXr9fRGqV"
      }
    },
    {
      "cell_type": "code",
      "source": [
        "for num in range(1, 10):\n",
        "    if num == 5:\n",
        "        break  # Exit loop when num is 5\n",
        "    if num % 2 == 0:\n",
        "        continue  # Skip even numbers\n",
        "    print(num)"
      ],
      "metadata": {
        "id": "R_ysdomwRTlQ"
      },
      "execution_count": null,
      "outputs": []
    },
    {
      "cell_type": "markdown",
      "source": [
        "## Nested Loops\n",
        "Loops can be nested inside each other."
      ],
      "metadata": {
        "id": "opJNUvnoRUL0"
      }
    },
    {
      "cell_type": "code",
      "source": [
        "for i in range(1, 4):  # Outer loop\n",
        "    for j in range(1, 3):  # Inner loop\n",
        "        print(f\"i = {i}, j = {j}\")"
      ],
      "metadata": {
        "id": "ibIT0BORRbGp"
      },
      "execution_count": null,
      "outputs": []
    },
    {
      "cell_type": "markdown",
      "source": [
        "Understanding loops and flow control is crucial for writing efficient and effective Python programs. These constructs allow you to handle repetitive tasks, make decisions in your code, and manage the program's execution flow."
      ],
      "metadata": {
        "id": "DEpbNIVkRiD7"
      }
    },
    {
      "cell_type": "markdown",
      "source": [
        "# Python Indentation and Scope\n",
        "\n",
        "In Python, indentation is not only a matter of style but a fundamental aspect of the language syntax that defines the structure and flow of control within the code. Proper indentation is crucial for defining the blocks of code that group together statements in control structures such as loops, conditional statements, and function definitions.\n",
        "\n",
        "## Where and Why Indentation is Used\n",
        "\n",
        "### Where\n",
        "Indentation in Python is used in:\n",
        "- Conditional statements (`if`, `elif`, `else`)\n",
        "- Loops (`for`, `while`)\n",
        "- Function and class definitions\n",
        "- With context managers (`with` statement)\n",
        "- In defining blocks of code for try-except blocks\n",
        "\n",
        "### Why\n",
        "Python uses indentation to:\n",
        "- Enhance code readability and maintainability, making it clear and visually structured\n",
        "- Define the beginning and end of control structures and blocks of code without the need for braces (`{}`) as in other languages\n",
        "- Enforce a uniform coding style, contributing to the readability across multiple Python projects\n",
        "\n",
        "## How Indentation Works\n",
        "\n",
        "Python considers a group of consecutive statements at the same indentation level as a block of code. The standard practice is to use four spaces per indentation level. Mixing tabs and spaces in indentation should be avoided, as this can lead to `IndentationError` or unexpected behaviors."
      ],
      "metadata": {
        "id": "oteB4vkPIpwt"
      }
    },
    {
      "cell_type": "markdown",
      "source": [
        "# Writing Functions in Python\n",
        "\n",
        "Functions in Python are blocks of code that are designed to do one specific job. When you want to perform a particular task that you've defined in a function, you call the function responsible for it. This approach is a cornerstone of procedural or process-oriented programming.\n",
        "\n",
        "## How to Write Functions in Python\n",
        "\n",
        "To define a function in Python, you use the `def` keyword, followed by a function name, a set of parentheses `()`, and a colon `:`. The indented block of code following the `:` is run when the function is called.\n",
        "\n",
        "### Example:\n"
      ],
      "metadata": {
        "id": "po8275fp1BgL"
      }
    },
    {
      "cell_type": "code",
      "source": [
        "def greet_user(username):\n",
        "    \"\"\"Display a simple greeting.\"\"\"\n",
        "    print(f\"Hello, {username}!\")"
      ],
      "metadata": {
        "id": "W2p-szB-1Dhg"
      },
      "execution_count": null,
      "outputs": []
    },
    {
      "cell_type": "markdown",
      "source": [
        "To call the function, you would use:"
      ],
      "metadata": {
        "id": "VfRUmAOB1L39"
      }
    },
    {
      "cell_type": "code",
      "source": [
        "greet_user('Alice')"
      ],
      "metadata": {
        "id": "gT-b6Y311O_j"
      },
      "execution_count": null,
      "outputs": []
    },
    {
      "cell_type": "markdown",
      "source": [
        "### Parameters and Arguments\n",
        "- **Parameters** are variables that an argument is stored in when a function is called.\n",
        "- **Arguments** are the values passed into the function's parameters.\n",
        "\n",
        "### Return Values\n",
        "To let a function return a value, use the `return` statement:"
      ],
      "metadata": {
        "id": "NFMX739r1Qte"
      }
    },
    {
      "cell_type": "code",
      "source": [
        "def add_numbers(x, y):\n",
        "    return x + y\n",
        "\n",
        "\n",
        "# You can then store the result in a variable:\n",
        "result = add_numbers(3, 5)\n",
        "print(result)  # Output: 8"
      ],
      "metadata": {
        "id": "AcFiz4gV1ff5"
      },
      "execution_count": null,
      "outputs": []
    },
    {
      "cell_type": "markdown",
      "source": [
        "## Scope and Indentation\n",
        "While indentation in Python primarily controls the flow and grouping of statements, it also implicitly affects the scope of variables in the context of functions and classes.\n",
        "\n",
        "- **Global Scope**: Variables defined at the top level of a module or outside of any function are in the global scope.\n",
        "- **Local Scope**: Variables defined within a function are in the local scope of that function and are not accessible outside it."
      ],
      "metadata": {
        "id": "gx-APxrgJceZ"
      }
    },
    {
      "cell_type": "code",
      "source": [
        "x = \"global\"  # Global scope\n",
        "\n",
        "def function_scope():\n",
        "    y = \"local\"  # Local scope\n",
        "    print(x)  # Accessible: prints 'global'\n",
        "    print(y)  # Accessible: prints 'local'\n",
        "\n",
        "function_scope()\n",
        "print(x)  # Accessible: prints 'global'\n",
        "#print(y)  # Error: 'y' is not accessible here; it was defined in the local scope of function_scope"
      ],
      "metadata": {
        "id": "8jV1uBLRI0LL"
      },
      "execution_count": null,
      "outputs": []
    },
    {
      "cell_type": "markdown",
      "source": [
        "In this example, x is in the global scope and accessible anywhere in the module, whereas y is defined in the local scope of function_scope and is not accessible outside of it.\n",
        "\n",
        "## Summary\n",
        "Indentation in Python is a syntactic requirement that directly influences the readability and structure of Python code. It plays a crucial role in defining code blocks and indirectly affects the scope of variables, emphasizing the importance of understanding and applying proper indentation practices in Python programming."
      ],
      "metadata": {
        "id": "KVU06hSYJIZm"
      }
    },
    {
      "cell_type": "markdown",
      "source": [
        "## Procedural (Process-Oriented) Programming\n",
        "Procedural programming is a programming paradigm based on the concept of calling procedures. Procedures, known as functions or subroutines in Python, are a set of statements that perform a task.\n",
        "\n",
        "- **Focus**: It focuses on breaking down a programming task into a collection of variables, data structures, and subroutines.\n",
        "- **Execution**: The program is typically executed from the top down, starting at the main function (if defined), and procedures are called as needed to perform specific tasks.\n",
        "- **Advantages**: This paradigm is particularly useful for linear and straightforward processes and allows for easy debugging and testing since the flow of the program is clear and sequential.\n",
        "- **Use Cases**: It's well-suited for tasks that can be completed with a simple series of steps, such as data processing, calculations, and more straightforward algorithms.\n",
        "\n",
        "Procedural programming in Python encourages the use of **reusable** code blocks (functions) and can lead to more organized and manageable code, especially for beginners or in scenarios where *object-oriented* programming might be an overkill."
      ],
      "metadata": {
        "id": "m2MgoXDF2J1W"
      }
    },
    {
      "cell_type": "code",
      "source": [
        "# Function to calculate age based on the year of birth\n",
        "def calculate_age(year_of_birth):\n",
        "    current_year = 2023  # Assuming the current year is 2023\n",
        "    age = current_year - year_of_birth\n",
        "    return age\n",
        "\n",
        "# Function to check if the user is of legal age (18+)\n",
        "def is_legal_age(age):\n",
        "    return age >= 18\n",
        "\n",
        "# Function to greet the user based on legal age\n",
        "def greet_user(name, is_legal):\n",
        "    if is_legal:\n",
        "        return f\"Welcome, {name}! You are of legal age.\"\n",
        "    else:\n",
        "        return f\"Hello, {name}! You are not of legal age yet.\"\n",
        "\n",
        "# Function to summarize the user information\n",
        "def summarize_user(name, year_of_birth):\n",
        "    age = calculate_age(year_of_birth)\n",
        "    legal = is_legal_age(age)\n",
        "    greeting = greet_user(name, legal)\n",
        "    print(f\"{greeting} You are {age} years old.\")\n",
        "\n",
        "# Main workflow\n",
        "def main():\n",
        "    user_name = \"Alice\"\n",
        "    birth_year = 2005\n",
        "    summarize_user(user_name, birth_year)\n",
        "\n",
        "# Calling the main function to execute the program\n",
        "main()"
      ],
      "metadata": {
        "id": "Czlit7Y02Mtv"
      },
      "execution_count": null,
      "outputs": []
    },
    {
      "cell_type": "markdown",
      "source": [
        "# Python Loops, Flow Control, and Functions Concept Test\n",
        "\n",
        "## Multiple Choice Questions\n",
        "\n",
        "1. **What does the `break` statement do in a loop?**\n",
        "   - A) Pauses the execution of the loop\n",
        "   - B) Stops the loop and exits it immediately\n",
        "   - C) Skips the current iteration and continues with the next one\n",
        "   - D) None of the above\n",
        "\n",
        "2. **Which loop is typically used when the number of iterations is known?**\n",
        "   - A) `while` loop\n",
        "   - B) `for` loop\n",
        "   - C) Both A and B\n",
        "   - D) Neither A nor B\n",
        "\n",
        "3. **How do you define a function in Python?**\n",
        "   - A) `function myFunc():`\n",
        "   - B) `def myFunc():`\n",
        "   - C) `create myFunc():`\n",
        "   - D) `function: myFunc()`\n",
        "\n",
        "4. **What will `range(1, 5)` generate?**\n",
        "   - A) A list of numbers from 1 to 5\n",
        "   - B) A list of numbers from 1 to 4\n",
        "   - C) A sequence of numbers from 1 to 5, excluding 5\n",
        "   - D) A sequence of numbers from 1 to 4, including 4\n",
        "\n",
        "## True/False Statements\n",
        "\n",
        "5. **A `for` loop can iterate over any iterable object in Python.**\n",
        "   - True / False\n",
        "\n",
        "6. **The `else` statement can be used with loops in Python.**\n",
        "   - True / False\n",
        "\n",
        "7. **Functions in Python can only return one value.**\n",
        "   - True / False\n",
        "\n",
        "8. **The `continue` statement in a loop will stop the execution of the loop and exit.**\n",
        "   - True / False\n",
        "\n",
        "## Short Coding Challenge\n",
        "\n",
        "9. **Write a Python function named `sum_even_numbers` that takes a list of integers and returns the sum of only the even numbers.**"
      ],
      "metadata": {
        "id": "MOhZgTy3LMGo"
      }
    },
    {
      "cell_type": "code",
      "source": [
        "# you can write your code here, or add additional cells as needed.\n",
        "\n"
      ],
      "metadata": {
        "id": "-jhijY2kL50y"
      },
      "execution_count": null,
      "outputs": []
    },
    {
      "cell_type": "markdown",
      "source": [
        "### Answers\n",
        "\n",
        "Click below for a solution"
      ],
      "metadata": {
        "id": "bVr0HN_JL9U5"
      }
    },
    {
      "cell_type": "markdown",
      "source": [
        "#### Multiple Choice Questions\n",
        "\n",
        "1. B) Stops the loop and exits it immediately\n",
        "2. B) `for` loop\n",
        "3. B) `def myFunc():`\n",
        "4. C) A sequence of numbers from 1 to 5, excluding 5\n",
        "\n",
        "#### True/False Statements\n",
        "\n",
        "5. True\n",
        "6. True\n",
        "7. False (Functions can return multiple values as a tuple)\n",
        "8. False (`continue` skips to the next iteration of the loop)\n",
        "\n",
        "#### Short Coding Challenge Example Solution"
      ],
      "metadata": {
        "id": "csqnDNhqMCVc"
      }
    },
    {
      "cell_type": "code",
      "source": [
        "def sum_even_numbers(numbers):\n",
        "    sum = 0\n",
        "    for num in numbers:\n",
        "        if num % 2 == 0:\n",
        "            sum += num\n",
        "    return sum\n",
        "\n",
        "# Example usage\n",
        "numbers_list = [1, 2, 3, 4, 5, 6]\n",
        "print(sum_even_numbers(numbers_list))"
      ],
      "metadata": {
        "id": "tYMaU5XkMNML"
      },
      "execution_count": null,
      "outputs": []
    },
    {
      "cell_type": "markdown",
      "source": [
        "# Working with Files and Reading Lines from a File in Python\n",
        "\n",
        "Working with files is a common task in programming, and Python provides a simple yet powerful way to handle files efficiently and safely. The `with` statement ensures that the file is properly closed after its suite finishes, even if an exception is raised. This method is preferable to using file objects directly because it provides clear syntax and avoids common pitfalls, such as forgetting to close the file.\n",
        "\n",
        "## Using the `with` Statement to Open Files\n",
        "\n",
        "The `with` statement simplifies exception handling by encapsulating common preparation and cleanup tasks in so-called context managers. For file operations, this means opening a file and ensuring it gets closed.\n",
        "\n",
        "### Example:\n"
      ],
      "metadata": {
        "id": "4mJ1V7OGU08i"
      }
    },
    {
      "cell_type": "code",
      "source": [
        "with open('drive/MyDrive/example.txt', 'r') as file:\n",
        "    content = file.read()\n",
        "    print(content)\n",
        "\n",
        "print('\\n  ---------------------------------')\n",
        "print(' | Now again, but with `readlines` |')\n",
        "print('  ---------------------------------\\n')\n",
        "\n",
        "with open('drive/MyDrive/example.txt', 'r') as file:\n",
        "    lines = file.readlines()\n",
        "    for line in lines:\n",
        "        print(line.strip())  # Using strip() to remove the newline character"
      ],
      "metadata": {
        "colab": {
          "base_uri": "https://localhost:8080/"
        },
        "id": "41t500XUVSRk",
        "outputId": "d48de17f-c5fb-460e-da4e-85d2c7c9ecb4"
      },
      "execution_count": 11,
      "outputs": [
        {
          "output_type": "stream",
          "name": "stdout",
          "text": [
            "Welcome to the Python Programming Overview!\n",
            "\n",
            "Here are some key concepts we've covered:\n",
            "1. Variables and Data Types\n",
            "2. Functions and Scope\n",
            "3. Loops and Flow Control\n",
            "4. Working with Files in Python\n",
            "\n",
            "Python is a powerful, high-level programming language that emphasizes readability and efficiency. With its simple syntax, Python is an excellent language for beginners and experienced programmers alike.\n",
            "\n",
            "Remember, practice is key to mastering Python. Keep experimenting with code, and don't be afraid to make mistakes. That's part of the learning process!\n",
            "\n",
            "Happy Coding!\n",
            "\n",
            "  ---------------------------------\n",
            " | Now again, but with `readlines` |\n",
            "  ---------------------------------\n",
            "\n",
            "Welcome to the Python Programming Overview!\n",
            "\n",
            "Here are some key concepts we've covered:\n",
            "1. Variables and Data Types\n",
            "2. Functions and Scope\n",
            "3. Loops and Flow Control\n",
            "4. Working with Files in Python\n",
            "\n",
            "Python is a powerful, high-level programming language that emphasizes readability and efficiency. With its simple syntax, Python is an excellent language for beginners and experienced programmers alike.\n",
            "\n",
            "Remember, practice is key to mastering Python. Keep experimenting with code, and don't be afraid to make mistakes. That's part of the learning process!\n",
            "\n",
            "Happy Coding!\n"
          ]
        }
      ]
    },
    {
      "cell_type": "markdown",
      "source": [
        "The `readlines()` function reads all the lines in a file into a list. Each element of the list represents a single line of the file, including the newline character (`\\n`) at the end of each line.\n",
        "\n",
        "This method is particularly useful when you need to process each line of a file individually, such as parsing data or performing operations on each line.\n",
        "\n",
        "## Summary\n",
        "- The `with` statement provides a robust and clean way to handle file opening and closing, automatically managing file resources.\n",
        "- The `readlines()` function reads the content of a file line by line into a list, making it easy to work with each line individually."
      ],
      "metadata": {
        "id": "t8GlSnjeVi3I"
      }
    },
    {
      "cell_type": "markdown",
      "source": [
        "# Writing to Files in Python\n",
        "\n",
        "Writing to files is a common task in many programming projects, from logging data to saving output for later use. Python simplifies file writing operations with built-in functions, making it both straightforward and powerful to create and modify files.\n",
        "\n",
        "## Using the `with` Statement for Writing Files\n",
        "\n",
        "The `with` statement ensures that the file is properly closed after its suite finishes, even if an exception is raised during the process. This approach is recommended for both reading from and writing to files due to its efficiency and simplicity.\n",
        "\n",
        "### Writing Text to a File\n",
        "\n",
        "To write text to a file in Python, you can use the `open()` function with mode `'w'` for writing. If the file does not exist, it will be created. If it does exist, it will be overwritten.\n"
      ],
      "metadata": {
        "id": "cPXO6ZF3ysMx"
      }
    },
    {
      "cell_type": "code",
      "source": [
        "with open('output.txt', 'w') as fh: #fh is short of 'file handle'\n",
        "    print('Hello, Python!', file=fh)"
      ],
      "metadata": {
        "id": "mpRtG63oy1LQ"
      },
      "execution_count": 1,
      "outputs": []
    },
    {
      "cell_type": "markdown",
      "source": [
        "This code snippet opens (and creates if necessary) output.txt, writes the string `'Hello, Python!'` to it, and then automatically closes the file.\n",
        "\n",
        "### Appending Text to an Existing File\n",
        "If you want to add text to an existing file without overwriting its content, use the `'a'` mode instead of `'w'`."
      ],
      "metadata": {
        "id": "SLY8NnmVy3kc"
      }
    },
    {
      "cell_type": "code",
      "source": [
        "with open('output.txt', 'a') as fh:\n",
        "    print('\\nAppending a new line.', file=fh)"
      ],
      "metadata": {
        "id": "dS1UQgE4zdMQ"
      },
      "execution_count": null,
      "outputs": []
    },
    {
      "cell_type": "markdown",
      "source": [
        "This will add `'\\nAppending a new line.'` to the end of output.txt, preserving its existing content.\n",
        "\n",
        "## Summary\n",
        "Writing to files in Python is an essential skill, enabling the storage of output data, logging, and data exchange. By using the `with` statement, Python makes file writing operations both safe and straightforward, ensuring that resources are efficiently managed and that files are properly closed after writing, even in the case of errors. This approach to file handling enhances code readability and resource management, making it a best practice for Python programming."
      ],
      "metadata": {
        "id": "MT3Vu85Pztga"
      }
    },
    {
      "cell_type": "markdown",
      "source": [
        "# Using Classes in Python: An Introduction to OOP\n",
        "\n",
        "Object-Oriented Programming (OOP) is a programming paradigm that uses \"objects\" to represent data and methods. Python supports OOP with its versatile class mechanism, allowing for elegant and powerful code structures.\n",
        "\n",
        "## Basic Concepts of OOP\n",
        "\n",
        "- **Class**: A blueprint for creating objects. Classes encapsulate data for the object and methods to manipulate that data.\n",
        "- **Object**: An instance of a class. Each object can have unique attributes and behavior as defined by its class.\n",
        "- **Inheritance**: Allows a class to inherit attributes and methods from another class.\n",
        "- **Encapsulation**: Restricts access to methods and variables to prevent data from direct modification (public vs. private).\n",
        "- **Polymorphism**: Allows for methods to do different things based on the object it is acting upon.\n",
        "\n",
        "## Defining a Class in Python\n",
        "\n",
        "To define a class in Python, use the `class` keyword:\n"
      ],
      "metadata": {
        "id": "xUpCIS-tbbts"
      }
    },
    {
      "cell_type": "code",
      "source": [
        "class MyClass:\n",
        "    x = 5\n",
        "\n",
        "# You can create an instance of a class by assigning the class to a variable:\n",
        "p1 = MyClass()\n",
        "print(p1.x)"
      ],
      "metadata": {
        "id": "iyWZwnmWbmZo"
      },
      "execution_count": null,
      "outputs": []
    },
    {
      "cell_type": "markdown",
      "source": [
        "## Example: Nested Classes - Point and Line\n",
        "In this example, we'll define a `Point` class and a `Line` class, where `Line` will use two instances of `Point` to represent the start and end points of the line.\n",
        "\n",
        "### Defining the Classes\n"
      ],
      "metadata": {
        "id": "nlzYqivjbzbc"
      }
    },
    {
      "cell_type": "code",
      "source": [
        "class Point:\n",
        "    def __init__(self, x=0, y=0):\n",
        "        self.x = x\n",
        "        self.y = y\n",
        "\n",
        "    def __str__(self):\n",
        "        return f\"({self.x}, {self.y})\"\n",
        "\n",
        "class Line:\n",
        "    def __init__(self, start_point, end_point):\n",
        "        self.start = start_point\n",
        "        self.end = end_point\n",
        "\n",
        "    def __str__(self):\n",
        "        return f\"Line({self.start} to {self.end})\"\n",
        "\n",
        "    def length(self):\n",
        "        return ((self.end.x - self.start.x) ** 2 + (self.end.y - self.start.y) ** 2) ** 0.5"
      ],
      "metadata": {
        "id": "Zb4LTkwQcGyF"
      },
      "execution_count": null,
      "outputs": []
    },
    {
      "cell_type": "markdown",
      "source": [
        "### Using the Classes"
      ],
      "metadata": {
        "id": "_3K3cXFScRKV"
      }
    },
    {
      "cell_type": "code",
      "source": [
        "# Creating points\n",
        "p1 = Point(1, 2)\n",
        "p2 = Point(4, 6)\n",
        "\n",
        "# Creating a line with p1 as the start point and p2 as the end point\n",
        "l = Line(p1, p2)\n",
        "\n",
        "print(v)  # Output: Line((1, 2) to (4, 6))\n",
        "print(f\"Length of the line: {l.length()}\")  # Calculates the length of the vector"
      ],
      "metadata": {
        "id": "Tcvc-CmhcTqk"
      },
      "execution_count": null,
      "outputs": []
    },
    {
      "cell_type": "markdown",
      "source": [
        "## Summary\n",
        "OOP in Python allows developers to create structured software that is robust and reusable. By defining classes that represent real-world things and situations, programmers can create objects that interact in a clear and concise way. Nested classes, like the `Point` and `Line` example, demonstrate how classes can be used within other classes to build complex data structures.\n"
      ],
      "metadata": {
        "id": "MHM6o0CWcXHm"
      }
    }
  ]
}